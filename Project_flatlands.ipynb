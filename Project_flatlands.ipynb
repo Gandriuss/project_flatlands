{
  "cells": [
    {
      "cell_type": "markdown",
      "metadata": {
        "id": "LwxO1FtoSB_p"
      },
      "source": [
        "#Initialization:"
      ]
    },
    {
      "cell_type": "code",
      "execution_count": 1,
      "metadata": {
        "id": "0XU6xC3MOsVu"
      },
      "outputs": [],
      "source": [
        "import pandas as pd\n",
        "\n",
        "import numpy as np\n",
        "from numpy import load\n",
        "import matplotlib.pyplot as plt\n",
        "import seaborn as sns\n",
        "\n",
        "from sklearn.preprocessing import StandardScaler\n",
        "from sklearn.model_selection import train_test_split\n",
        "\n",
        "import tensorflow as tf\n",
        "from tensorflow.keras.models import load_model\n",
        "from tensorflow.keras.optimizers import Adam\n",
        "from tensorflow.keras.utils import to_categorical\n",
        "from tensorflow.keras.models import Sequential\n",
        "from tensorflow.keras.layers import Conv2D, MaxPooling2D, Flatten, Dense, Activation\n",
        "from tensorflow.keras.activations import relu\n",
        "from tensorflow.keras.layers import BatchNormalization\n",
        "from tensorflow.keras.layers import Dropout"
      ]
    },
    {
      "cell_type": "code",
      "execution_count": 11,
      "metadata": {
        "colab": {
          "base_uri": "https://localhost:8080/"
        },
        "id": "OyXG9byjN8ux",
        "outputId": "73dec04c-3b69-4093-be24-1c994398d2a0"
      },
      "outputs": [
        {
          "name": "stdout",
          "output_type": "stream",
          "text": [
            "Drive already mounted at /content/drive; to attempt to forcibly remount, call drive.mount(\"/content/drive\", force_remount=True).\n"
          ]
        }
      ],
      "source": [
        "from google.colab import drive\n",
        "drive.mount('/content/drive')\n",
        "path1 = '/content/drive/MyDrive/VU/project_flatlands/flatland_train.npz'"
      ]
    },
    {
      "cell_type": "code",
      "execution_count": 12,
      "metadata": {
        "id": "j3Pd5sjjO9qa"
      },
      "outputs": [],
      "source": [
        "# Load & scale data:\n",
        "data = np.load(path1)\n",
        "X = data['X']\n",
        "y = data['y']\n",
        "\n",
        "y[y != 0] -= 2    # Correct labels so that triangle is mapped to class 1\n",
        "X = X / 255.      # Scale down to range [0, 1]\n"
      ]
    },
    {
      "cell_type": "code",
      "execution_count": 4,
      "metadata": {
        "colab": {
          "base_uri": "https://localhost:8080/"
        },
        "id": "Cq0gpg38UIog",
        "outputId": "38f27423-bd43-41f6-aae5-412ee9076582"
      },
      "outputs": [
        {
          "data": {
            "text/plain": [
              "array([[0., 0., 0., ..., 0., 0., 0.],\n",
              "       [0., 0., 0., ..., 0., 0., 0.],\n",
              "       [0., 0., 0., ..., 0., 0., 0.],\n",
              "       ...,\n",
              "       [0., 0., 0., ..., 0., 0., 0.],\n",
              "       [0., 0., 0., ..., 0., 0., 0.],\n",
              "       [0., 0., 0., ..., 0., 0., 0.]])"
            ]
          },
          "execution_count": 4,
          "metadata": {},
          "output_type": "execute_result"
        }
      ],
      "source": [
        "# take a look at sample and data shapes:\n",
        "print(X[1])\n",
        "print(X.shape)\n",
        "print(X[1].shape)\n",
        "print(y.shape)"
      ]
    },
    {
      "cell_type": "code",
      "execution_count": 101,
      "metadata": {
        "colab": {
          "base_uri": "https://localhost:8080/",
          "height": 499
        },
        "id": "0M4eYj7hTQBp",
        "outputId": "431d11c8-cefd-44b7-a0bd-c64607a172ee"
      },
      "outputs": [
        {
          "data": {
            "text/plain": [
              "(array([1381.,    0., 2853.,    0.,    0., 1868.,    0., 2137.,    0.,\n",
              "        1761.]),\n",
              " array([0. , 0.4, 0.8, 1.2, 1.6, 2. , 2.4, 2.8, 3.2, 3.6, 4. ]),\n",
              " <BarContainer object of 10 artists>)"
            ]
          },
          "execution_count": 101,
          "metadata": {},
          "output_type": "execute_result"
        },
        {
          "data": {
            "image/png": "[encoded data removed]",
            "text/plain": [
              "<Figure size 640x480 with 1 Axes>"
            ]
          },
          "metadata": {},
          "output_type": "display_data"
        }
      ],
      "source": [
        "# Check distribution of targets:\n",
        "plt.hist(y)"
      ]
    },
    {
      "cell_type": "markdown",
      "metadata": {
        "id": "m9W-wJYESFrK"
      },
      "source": [
        "#Data Preparation:"
      ]
    },
    {
      "cell_type": "code",
      "execution_count": 13,
      "metadata": {
        "colab": {
          "base_uri": "https://localhost:8080/"
        },
        "id": "tE23i5FIWVBe",
        "outputId": "0213e59f-e324-451a-e27f-357bd7164779"
      },
      "outputs": [
        {
          "name": "stdout",
          "output_type": "stream",
          "text": [
            "Original dataset shape: X=(10000, 50, 50), y=(10000,)\n",
            "Augmented dataset shape: X_augmented=(50000, 50, 50), y_augmented=(50000,)\n"
          ]
        }
      ],
      "source": [
        "def augment_dataset(X, y):\n",
        "    # Initialize lists to store augmented images and labels\n",
        "    X_augmented = []\n",
        "    y_augmented = []\n",
        "\n",
        "    for img, label in zip(X, y):\n",
        "        # Original Image\n",
        "        X_augmented.append(img)\n",
        "        y_augmented.append(label)\n",
        "\n",
        "        # Rotate 90 degrees\n",
        "        X_augmented.append(np.rot90(img))\n",
        "        y_augmented.append(label)\n",
        "\n",
        "        # Rotate 180 degrees\n",
        "        X_augmented.append(np.rot90(img, 2))\n",
        "        y_augmented.append(label)\n",
        "\n",
        "        # Rotate 270 degrees\n",
        "        X_augmented.append(np.rot90(img, 3))\n",
        "        y_augmented.append(label)\n",
        "\n",
        "        # Flip vertically\n",
        "        X_augmented.append(np.flipud(img))\n",
        "        y_augmented.append(label)\n",
        "\n",
        "    return np.array(X_augmented), np.array(y_augmented)\n",
        "\n",
        "# Apply augmentation\n",
        "X_augmented, y_augmented = augment_dataset(X, y)\n",
        "\n",
        "print(f\"Original dataset shape: X={X.shape}, y={y.shape}\")\n",
        "print(f\"Augmented dataset shape: X_augmented={X_augmented.shape}, y_augmented={y_augmented.shape}\")"
      ]
    },
    {
      "cell_type": "code",
      "execution_count": 14,
      "metadata": {
        "id": "N2SZKkUMU70m"
      },
      "outputs": [],
      "source": [
        "# Split the data into training and testing sets\n",
        "X_train, X_test, y_train, y_test = train_test_split(X_augmented, y_augmented, test_size=0.1, random_state=42)"
      ]
    },
    {
      "cell_type": "code",
      "execution_count": 15,
      "metadata": {
        "colab": {
          "base_uri": "https://localhost:8080/"
        },
        "id": "uPhuD8FjEq39",
        "outputId": "059eb64b-2d06-4df6-cbe6-48405026d567"
      },
      "outputs": [
        {
          "data": {
            "text/plain": [
              "(49995,)"
            ]
          },
          "execution_count": 15,
          "metadata": {},
          "output_type": "execute_result"
        }
      ],
      "source": [
        "y_train.shape"
      ]
    },
    {
      "cell_type": "markdown",
      "metadata": {
        "id": "67bfDg9HVEA5"
      },
      "source": [
        "# Model:"
      ]
    },
    {
      "cell_type": "code",
      "execution_count": 4,
      "metadata": {
        "colab": {
          "base_uri": "https://localhost:8080/"
        },
        "id": "Y-OGqXCkGxFL",
        "outputId": "88bd3b59-696f-4707-f237-918ea1784e5d"
      },
      "outputs": [
        {
          "name": "stdout",
          "output_type": "stream",
          "text": [
            "Model: \"sequential_2\"\n",
            "_________________________________________________________________\n",
            " Layer (type)                Output Shape              Param #   \n",
            "=================================================================\n",
            " conv2d_7 (Conv2D)           (None, 48, 48, 32)        320       \n",
            "                                                                 \n",
            " batch_normalization_9 (Bat  (None, 48, 48, 32)        128       \n",
            " chNormalization)                                                \n",
            "                                                                 \n",
            " activation_7 (Activation)   (None, 48, 48, 32)        0         \n",
            "                                                                 \n",
            " conv2d_8 (Conv2D)           (None, 46, 46, 32)        9248      \n",
            "                                                                 \n",
            " batch_normalization_10 (Ba  (None, 46, 46, 32)        128       \n",
            " tchNormalization)                                               \n",
            "                                                                 \n",
            " activation_8 (Activation)   (None, 46, 46, 32)        0         \n",
            "                                                                 \n",
            " conv2d_9 (Conv2D)           (None, 44, 44, 32)        9248      \n",
            "                                                                 \n",
            " batch_normalization_11 (Ba  (None, 44, 44, 32)        128       \n",
            " tchNormalization)                                               \n",
            "                                                                 \n",
            " activation_9 (Activation)   (None, 44, 44, 32)        0         \n",
            "                                                                 \n",
            " max_pooling2d_2 (MaxPoolin  (None, 22, 22, 32)        0         \n",
            " g2D)                                                            \n",
            "                                                                 \n",
            " batch_normalization_12 (Ba  (None, 22, 22, 32)        128       \n",
            " tchNormalization)                                               \n",
            "                                                                 \n",
            " flatten_2 (Flatten)         (None, 15488)             0         \n",
            "                                                                 \n",
            " dense_4 (Dense)             (None, 128)               1982592   \n",
            "                                                                 \n",
            " dropout_2 (Dropout)         (None, 128)               0         \n",
            "                                                                 \n",
            " dense_5 (Dense)             (None, 5)                 645       \n",
            "                                                                 \n",
            "=================================================================\n",
            "Total params: 2002565 (7.64 MB)\n",
            "Trainable params: 2002309 (7.64 MB)\n",
            "Non-trainable params: 256 (1.00 KB)\n",
            "_________________________________________________________________\n"
          ]
        }
      ],
      "source": [
        "model = Sequential()\n",
        "\n",
        "model.add(Conv2D(32, kernel_size=(3, 3), input_shape=[50, 50, 1]))               # 3 * 2D convolutional layers with batch normalizations + a dense layer with dropout\n",
        "model.add(BatchNormalization(axis=-1))   # Axis -1 is always the features axis\n",
        "model.add(Activation(\"relu\"))\n",
        "model.add(Conv2D(32, (3, 3), activation='relu'))\n",
        "model.add(BatchNormalization(axis=-1))\n",
        "model.add(Activation(\"relu\"))\n",
        "model.add(Conv2D(32, (3, 3), activation='relu'))\n",
        "model.add(BatchNormalization(axis=-1))\n",
        "model.add(Activation(\"relu\"))\n",
        "\n",
        "model.add(MaxPooling2D(pool_size=(2, 2)))\n",
        "model.add(BatchNormalization(axis=-1))\n",
        "model.add(Flatten())\n",
        "\n",
        "model.add(Dense(128, activation='relu'))\n",
        "model.add(Dropout(0.2))\n",
        "model.add(Dense(5, activation='softmax'))\n",
        "\n",
        "model.compile(loss=\"sparse_categorical_crossentropy\",                           # for categorization problems (Adam with \"best\" learning rate ofc:> )\n",
        "              optimizer=Adam(learning_rate=3e-4),\n",
        "              metrics=[\"accuracy\"])\n",
        "model.summary()"
      ]
    },
    {
      "cell_type": "markdown",
      "metadata": {
        "id": "PtJ8BmOCXa0m"
      },
      "source": [
        "#Train loop:"
      ]
    },
    {
      "cell_type": "code",
      "execution_count": null,
      "metadata": {
        "colab": {
          "base_uri": "https://localhost:8080/"
        },
        "id": "QM8oELF5aApk",
        "outputId": "1c8edf51-4d5b-43a8-8037-44455e45f9d2"
      },
      "outputs": [
        {
          "name": "stdout",
          "output_type": "stream",
          "text": [
            "Epoch 1/30\n",
            "391/391 [==============================] - 594s 2s/step - loss: 1.0426 - accuracy: 0.5777\n",
            "Epoch 2/30\n",
            "391/391 [==============================] - 589s 2s/step - loss: 0.3875 - accuracy: 0.8854\n",
            "Epoch 3/30\n",
            " 72/391 [====>.........................] - ETA: 8:22 - loss: 0.2852 - accuracy: 0.9291"
          ]
        }
      ],
      "source": [
        "# Train the model:\n",
        "model.fit(X_train, y_train, batch_size=64, epochs=18)"
      ]
    },
    {
      "cell_type": "code",
      "execution_count": 137,
      "metadata": {
        "id": "hB7tF9XOjEmV"
      },
      "outputs": [],
      "source": [
        "# Save the model\n",
        "model.save('model_keras_360.h5')"
      ]
    },
    {
      "cell_type": "markdown",
      "metadata": {
        "id": "gP9WZ1D9jKKl"
      },
      "source": [
        "#Test model:"
      ]
    },
    {
      "cell_type": "code",
      "execution_count": 123,
      "metadata": {
        "colab": {
          "base_uri": "https://localhost:8080/"
        },
        "id": "b1yk3RH9mXU_",
        "outputId": "c0f5a471-f52c-4e42-80a7-219b50dbfa29"
      },
      "outputs": [
        {
          "name": "stdout",
          "output_type": "stream",
          "text": [
            "313/313 [==============================] - 1s 4ms/step - loss: 0.3683 - accuracy: 0.9737\n",
            "Test accuracy: 0.9736999869346619\n"
          ]
        }
      ],
      "source": [
        "# Load the model:\n",
        "model = load_model('model_keras_360.h5')\n",
        "\n",
        "# Evaluate the model\n",
        "test_loss, test_accuracy = model.evaluate(X_test, y_test)\n",
        "print(\"Test accuracy:\", test_accuracy)"
      ]
    }
  ],
  "metadata": {
    "colab": {
      "collapsed_sections": [
        "LwxO1FtoSB_p",
        "m9W-wJYESFrK",
        "PtJ8BmOCXa0m",
        "gP9WZ1D9jKKl"
      ],
      "provenance": []
    },
    "kernelspec": {
      "display_name": "Python 3",
      "name": "python3"
    },
    "language_info": {
      "name": "python"
    }
  },
  "nbformat": 4,
  "nbformat_minor": 0
}
