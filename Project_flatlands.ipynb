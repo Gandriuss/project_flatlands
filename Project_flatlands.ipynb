{
  "nbformat": 4,
  "nbformat_minor": 0,
  "metadata": {
    "colab": {
      "provenance": [],
      "gpuType": "T4"
    },
    "kernelspec": {
      "name": "python3",
      "display_name": "Python 3"
    },
    "language_info": {
      "name": "python"
    },
    "accelerator": "GPU"
  },
  "cells": [
    {
      "cell_type": "markdown",
      "source": [
        "#Initialization:"
      ],
      "metadata": {
        "id": "LwxO1FtoSB_p"
      }
    },
    {
      "cell_type": "code",
      "source": [
        "import pandas as pd\n",
        "\n",
        "import numpy as np\n",
        "from numpy import load\n",
        "import matplotlib.pyplot as plt\n",
        "import seaborn as sns\n",
        "\n",
        "from sklearn.preprocessing import StandardScaler\n",
        "from sklearn.model_selection import train_test_split\n",
        "\n",
        "import tensorflow as tf\n",
        "from tensorflow.keras.optimizers import Adam\n",
        "from tensorflow.keras.utils import to_categorical\n",
        "from tensorflow.keras.models import Sequential\n",
        "from tensorflow.keras.layers import Conv2D, MaxPooling2D, Flatten, Dense, Activation\n",
        "from tensorflow.keras.activations import relu\n",
        "from tensorflow.keras.layers import BatchNormalization\n",
        "from tensorflow.keras.layers import Dropout"
      ],
      "metadata": {
        "id": "0XU6xC3MOsVu"
      },
      "execution_count": 59,
      "outputs": []
    },
    {
      "cell_type": "code",
      "execution_count": 2,
      "metadata": {
        "colab": {
          "base_uri": "https://localhost:8080/"
        },
        "id": "OyXG9byjN8ux",
        "outputId": "8eaa5b2c-de4d-49dd-dbba-80af541f85ec"
      },
      "outputs": [
        {
          "output_type": "stream",
          "name": "stdout",
          "text": [
            "Mounted at /content/drive\n"
          ]
        }
      ],
      "source": [
        "from google.colab import drive\n",
        "drive.mount('/content/drive')\n",
        "path1 = '/content/drive/MyDrive/VU/project_flatlands/flatland_train.npz'"
      ]
    },
    {
      "cell_type": "markdown",
      "source": [],
      "metadata": {
        "id": "WTCgDTnlR_s6"
      }
    },
    {
      "cell_type": "code",
      "source": [
        "data = np.load(path1)\n",
        "X = data['X']\n",
        "y = data['y']\n",
        "\n",
        "y[y != 0] -= 2    # Correct labels so that triangle is mapped to class 1\n",
        "X = X / 255.      # Scale down to range [0, 1]\n",
        "X = X.reshape(-1, 50, 50, 1)  # Reshape X to have a channel dimension"
      ],
      "metadata": {
        "id": "j3Pd5sjjO9qa"
      },
      "execution_count": 51,
      "outputs": []
    },
    {
      "cell_type": "code",
      "source": [
        "print(X.shape)\n",
        "print(X[1].shape)\n",
        "print(y.shape)"
      ],
      "metadata": {
        "colab": {
          "base_uri": "https://localhost:8080/"
        },
        "id": "mD7HR1SmP0ss",
        "outputId": "6b537b62-b77f-46dc-85c5-584ac444a2da"
      },
      "execution_count": 52,
      "outputs": [
        {
          "output_type": "stream",
          "name": "stdout",
          "text": [
            "(10000, 50, 50, 1)\n",
            "(50, 50, 1)\n",
            "(10000,)\n"
          ]
        }
      ]
    },
    {
      "cell_type": "code",
      "source": [
        "min_value = y.min()\n",
        "max_value = y.max()\n",
        "print(min_value)\n",
        "print(max_value)"
      ],
      "metadata": {
        "colab": {
          "base_uri": "https://localhost:8080/"
        },
        "id": "Tjikk3I3VdAR",
        "outputId": "8894b49b-da6f-4a03-af8f-1857f1d85113"
      },
      "execution_count": 53,
      "outputs": [
        {
          "output_type": "stream",
          "name": "stdout",
          "text": [
            "0.0\n",
            "4.0\n"
          ]
        }
      ]
    },
    {
      "cell_type": "markdown",
      "source": [
        "GPU set up properly?:"
      ],
      "metadata": {
        "id": "A3gxHoLl4Jdj"
      }
    },
    {
      "cell_type": "code",
      "source": [
        "if tf.test.gpu_device_name():\n",
        "    print('Default GPU Device: {}'.format(tf.test.gpu_device_name()))\n",
        "else:\n",
        "    print(\"Please install GPU version of TF\")"
      ],
      "metadata": {
        "colab": {
          "base_uri": "https://localhost:8080/"
        },
        "id": "F_bQ6Ozb4I2b",
        "outputId": "43ad4354-1391-418a-9e2c-a6cac0376cd5"
      },
      "execution_count": 24,
      "outputs": [
        {
          "output_type": "stream",
          "name": "stdout",
          "text": [
            "Default GPU Device: /device:GPU:0\n"
          ]
        }
      ]
    },
    {
      "cell_type": "markdown",
      "source": [
        "#Data Preparation:"
      ],
      "metadata": {
        "id": "m9W-wJYESFrK"
      }
    },
    {
      "cell_type": "code",
      "source": [
        "# Split the data into training and testing sets\n",
        "X_train, X_test, y_train, y_test = train_test_split(X, y, test_size=0.2, random_state=42)"
      ],
      "metadata": {
        "id": "N2SZKkUMU70m"
      },
      "execution_count": 54,
      "outputs": []
    },
    {
      "cell_type": "code",
      "source": [
        "y_train.shape"
      ],
      "metadata": {
        "colab": {
          "base_uri": "https://localhost:8080/"
        },
        "id": "uPhuD8FjEq39",
        "outputId": "b94b1750-a57a-4d6a-e5e9-6c6cc052a89e"
      },
      "execution_count": 55,
      "outputs": [
        {
          "output_type": "execute_result",
          "data": {
            "text/plain": [
              "(8000,)"
            ]
          },
          "metadata": {},
          "execution_count": 55
        }
      ]
    },
    {
      "cell_type": "markdown",
      "source": [
        "# Model:"
      ],
      "metadata": {
        "id": "67bfDg9HVEA5"
      }
    },
    {
      "cell_type": "code",
      "source": [
        "model = Sequential()\n",
        "model.add(Conv2D(32, kernel_size=(3, 3), input_shape=[50, 50, 1]))\n",
        "model.add(BatchNormalization(axis=-1))   # Axis -1 is always the features axis\n",
        "model.add(Activation(\"relu\"))\n",
        "model.add(Conv2D(32, (3, 3), activation='relu'))\n",
        "model.add(BatchNormalization(axis=-1))\n",
        "model.add(Activation(\"relu\"))\n",
        "model.add(MaxPooling2D(pool_size=(2, 2)))\n",
        "model.add(BatchNormalization(axis=-1))\n",
        "model.add(Flatten())\n",
        "model.add(Dense(128, activation='relu'))\n",
        "model.add(Dropout(0.2))\n",
        "model.add(Dense(5, activation='softmax'))\n",
        "\n",
        "model.compile(loss=\"sparse_categorical_crossentropy\",\n",
        "              optimizer=Adam(learning_rate=3e-4),\n",
        "              metrics=[\"accuracy\"])\n",
        "model.summary()"
      ],
      "metadata": {
        "colab": {
          "base_uri": "https://localhost:8080/"
        },
        "id": "Y-OGqXCkGxFL",
        "outputId": "52b88941-a8f5-40f9-9c0e-040529f50814"
      },
      "execution_count": 62,
      "outputs": [
        {
          "output_type": "stream",
          "name": "stdout",
          "text": [
            "Model: \"sequential_11\"\n",
            "_________________________________________________________________\n",
            " Layer (type)                Output Shape              Param #   \n",
            "=================================================================\n",
            " conv2d_21 (Conv2D)          (None, 48, 48, 32)        320       \n",
            "                                                                 \n",
            " batch_normalization_6 (Bat  (None, 48, 48, 32)        128       \n",
            " chNormalization)                                                \n",
            "                                                                 \n",
            " activation_28 (Activation)  (None, 48, 48, 32)        0         \n",
            "                                                                 \n",
            " conv2d_22 (Conv2D)          (None, 46, 46, 32)        9248      \n",
            "                                                                 \n",
            " batch_normalization_7 (Bat  (None, 46, 46, 32)        128       \n",
            " chNormalization)                                                \n",
            "                                                                 \n",
            " activation_29 (Activation)  (None, 46, 46, 32)        0         \n",
            "                                                                 \n",
            " max_pooling2d_18 (MaxPooli  (None, 23, 23, 32)        0         \n",
            " ng2D)                                                           \n",
            "                                                                 \n",
            " batch_normalization_8 (Bat  (None, 23, 23, 32)        128       \n",
            " chNormalization)                                                \n",
            "                                                                 \n",
            " flatten_10 (Flatten)        (None, 16928)             0         \n",
            "                                                                 \n",
            " dense_19 (Dense)            (None, 128)               2166912   \n",
            "                                                                 \n",
            " dropout_1 (Dropout)         (None, 128)               0         \n",
            "                                                                 \n",
            " dense_20 (Dense)            (None, 5)                 645       \n",
            "                                                                 \n",
            "=================================================================\n",
            "Total params: 2177509 (8.31 MB)\n",
            "Trainable params: 2177317 (8.31 MB)\n",
            "Non-trainable params: 192 (768.00 Byte)\n",
            "_________________________________________________________________\n"
          ]
        }
      ]
    },
    {
      "cell_type": "markdown",
      "source": [
        "#Train loop:"
      ],
      "metadata": {
        "id": "PtJ8BmOCXa0m"
      }
    },
    {
      "cell_type": "code",
      "source": [
        "# Train the model (Adjust batch_size and epochs as per your requirement)\n",
        "model.fit(X_train, y_train, batch_size=32, epochs=12)"
      ],
      "metadata": {
        "colab": {
          "base_uri": "https://localhost:8080/"
        },
        "id": "QM8oELF5aApk",
        "outputId": "dae22c8c-c866-463a-857f-8cec761a9fad"
      },
      "execution_count": 75,
      "outputs": [
        {
          "output_type": "stream",
          "name": "stdout",
          "text": [
            "Epoch 1/12\n",
            "250/250 [==============================] - 3s 7ms/step - loss: 0.0048 - accuracy: 0.9985\n",
            "Epoch 2/12\n",
            "250/250 [==============================] - 2s 6ms/step - loss: 0.0035 - accuracy: 0.9987\n",
            "Epoch 3/12\n",
            "250/250 [==============================] - 2s 6ms/step - loss: 0.0148 - accuracy: 0.9965\n",
            "Epoch 4/12\n",
            "250/250 [==============================] - 2s 7ms/step - loss: 0.0106 - accuracy: 0.9964\n",
            "Epoch 5/12\n",
            "250/250 [==============================] - 2s 6ms/step - loss: 0.0055 - accuracy: 0.9980\n",
            "Epoch 6/12\n",
            "250/250 [==============================] - 2s 7ms/step - loss: 0.0074 - accuracy: 0.9983\n",
            "Epoch 7/12\n",
            "250/250 [==============================] - 2s 7ms/step - loss: 0.0024 - accuracy: 0.9995\n",
            "Epoch 8/12\n",
            "250/250 [==============================] - 2s 7ms/step - loss: 0.0015 - accuracy: 0.9994\n",
            "Epoch 9/12\n",
            "250/250 [==============================] - 2s 7ms/step - loss: 0.0071 - accuracy: 0.9977\n",
            "Epoch 10/12\n",
            "250/250 [==============================] - 2s 7ms/step - loss: 0.0037 - accuracy: 0.9992\n",
            "Epoch 11/12\n",
            "250/250 [==============================] - 2s 7ms/step - loss: 0.0021 - accuracy: 0.9996\n",
            "Epoch 12/12\n",
            "250/250 [==============================] - 2s 6ms/step - loss: 0.0076 - accuracy: 0.9983\n"
          ]
        },
        {
          "output_type": "execute_result",
          "data": {
            "text/plain": [
              "<keras.src.callbacks.History at 0x7f44cdeeace0>"
            ]
          },
          "metadata": {},
          "execution_count": 75
        }
      ]
    },
    {
      "cell_type": "code",
      "source": [
        "# Save the model\n",
        "model.save('model_keras.h5')"
      ],
      "metadata": {
        "id": "hB7tF9XOjEmV"
      },
      "execution_count": 76,
      "outputs": []
    },
    {
      "cell_type": "markdown",
      "source": [
        "#Test model:"
      ],
      "metadata": {
        "id": "gP9WZ1D9jKKl"
      }
    },
    {
      "cell_type": "code",
      "source": [
        "# Load the model\n",
        "from tensorflow.keras.models import load_model\n",
        "model = load_model('model_keras.h5')\n",
        "\n",
        "# Evaluate the model\n",
        "test_loss, test_accuracy = model.evaluate(X_test, y_test)\n",
        "print(\"Test accuracy:\", test_accuracy)"
      ],
      "metadata": {
        "colab": {
          "base_uri": "https://localhost:8080/"
        },
        "id": "b1yk3RH9mXU_",
        "outputId": "4fbe7b96-caf8-4c4b-b697-c06dfb7d650c"
      },
      "execution_count": 77,
      "outputs": [
        {
          "output_type": "stream",
          "name": "stdout",
          "text": [
            "63/63 [==============================] - 0s 4ms/step - loss: 0.5346 - accuracy: 0.9595\n",
            "Test accuracy: 0.9595000147819519\n"
          ]
        }
      ]
    }
  ]
}